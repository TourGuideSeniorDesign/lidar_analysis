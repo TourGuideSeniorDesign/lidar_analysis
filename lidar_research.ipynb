{
  "nbformat": 4,
  "nbformat_minor": 0,
  "metadata": {
    "colab": {
      "provenance": []
    },
    "kernelspec": {
      "name": "python3",
      "display_name": "Python 3"
    },
    "language_info": {
      "name": "python"
    }
  },
  "cells": [
    {
      "cell_type": "code",
      "source": [
        "!pip install open3d"
      ],
      "metadata": {
        "colab": {
          "base_uri": "https://localhost:8080/"
        },
        "id": "M3fgJafEff4K",
        "outputId": "c88a02c3-7cad-4922-f68c-73eb0bccbf31"
      },
      "execution_count": null,
      "outputs": [
        {
          "output_type": "stream",
          "name": "stdout",
          "text": [
            "Collecting open3d\n",
            "  Downloading open3d-0.19.0-cp311-cp311-manylinux_2_31_x86_64.whl.metadata (4.3 kB)\n",
            "Requirement already satisfied: numpy>=1.18.0 in /usr/local/lib/python3.11/dist-packages (from open3d) (1.26.4)\n",
            "Collecting dash>=2.6.0 (from open3d)\n",
            "  Downloading dash-2.18.2-py3-none-any.whl.metadata (10 kB)\n",
            "Requirement already satisfied: werkzeug>=3.0.0 in /usr/local/lib/python3.11/dist-packages (from open3d) (3.1.3)\n",
            "Requirement already satisfied: flask>=3.0.0 in /usr/local/lib/python3.11/dist-packages (from open3d) (3.1.0)\n",
            "Requirement already satisfied: nbformat>=5.7.0 in /usr/local/lib/python3.11/dist-packages (from open3d) (5.10.4)\n",
            "Collecting configargparse (from open3d)\n",
            "  Downloading ConfigArgParse-1.7-py3-none-any.whl.metadata (23 kB)\n",
            "Collecting ipywidgets>=8.0.4 (from open3d)\n",
            "  Downloading ipywidgets-8.1.5-py3-none-any.whl.metadata (2.3 kB)\n",
            "Collecting addict (from open3d)\n",
            "  Downloading addict-2.4.0-py3-none-any.whl.metadata (1.0 kB)\n",
            "Requirement already satisfied: pillow>=9.3.0 in /usr/local/lib/python3.11/dist-packages (from open3d) (11.1.0)\n",
            "Requirement already satisfied: matplotlib>=3 in /usr/local/lib/python3.11/dist-packages (from open3d) (3.10.0)\n",
            "Requirement already satisfied: pandas>=1.0 in /usr/local/lib/python3.11/dist-packages (from open3d) (2.2.2)\n",
            "Requirement already satisfied: pyyaml>=5.4.1 in /usr/local/lib/python3.11/dist-packages (from open3d) (6.0.2)\n",
            "Requirement already satisfied: scikit-learn>=0.21 in /usr/local/lib/python3.11/dist-packages (from open3d) (1.6.1)\n",
            "Requirement already satisfied: tqdm in /usr/local/lib/python3.11/dist-packages (from open3d) (4.67.1)\n",
            "Collecting pyquaternion (from open3d)\n",
            "  Downloading pyquaternion-0.9.9-py3-none-any.whl.metadata (1.4 kB)\n",
            "Collecting flask>=3.0.0 (from open3d)\n",
            "  Downloading flask-3.0.3-py3-none-any.whl.metadata (3.2 kB)\n",
            "Collecting werkzeug>=3.0.0 (from open3d)\n",
            "  Downloading werkzeug-3.0.6-py3-none-any.whl.metadata (3.7 kB)\n",
            "Requirement already satisfied: plotly>=5.0.0 in /usr/local/lib/python3.11/dist-packages (from dash>=2.6.0->open3d) (5.24.1)\n",
            "Collecting dash-html-components==2.0.0 (from dash>=2.6.0->open3d)\n",
            "  Downloading dash_html_components-2.0.0-py3-none-any.whl.metadata (3.8 kB)\n",
            "Collecting dash-core-components==2.0.0 (from dash>=2.6.0->open3d)\n",
            "  Downloading dash_core_components-2.0.0-py3-none-any.whl.metadata (2.9 kB)\n",
            "Collecting dash-table==5.0.0 (from dash>=2.6.0->open3d)\n",
            "  Downloading dash_table-5.0.0-py3-none-any.whl.metadata (2.4 kB)\n",
            "Requirement already satisfied: importlib-metadata in /usr/local/lib/python3.11/dist-packages (from dash>=2.6.0->open3d) (8.6.1)\n",
            "Requirement already satisfied: typing-extensions>=4.1.1 in /usr/local/lib/python3.11/dist-packages (from dash>=2.6.0->open3d) (4.12.2)\n",
            "Requirement already satisfied: requests in /usr/local/lib/python3.11/dist-packages (from dash>=2.6.0->open3d) (2.32.3)\n",
            "Collecting retrying (from dash>=2.6.0->open3d)\n",
            "  Downloading retrying-1.3.4-py3-none-any.whl.metadata (6.9 kB)\n",
            "Requirement already satisfied: nest-asyncio in /usr/local/lib/python3.11/dist-packages (from dash>=2.6.0->open3d) (1.6.0)\n",
            "Requirement already satisfied: setuptools in /usr/local/lib/python3.11/dist-packages (from dash>=2.6.0->open3d) (75.1.0)\n",
            "Requirement already satisfied: Jinja2>=3.1.2 in /usr/local/lib/python3.11/dist-packages (from flask>=3.0.0->open3d) (3.1.5)\n",
            "Requirement already satisfied: itsdangerous>=2.1.2 in /usr/local/lib/python3.11/dist-packages (from flask>=3.0.0->open3d) (2.2.0)\n",
            "Requirement already satisfied: click>=8.1.3 in /usr/local/lib/python3.11/dist-packages (from flask>=3.0.0->open3d) (8.1.8)\n",
            "Requirement already satisfied: blinker>=1.6.2 in /usr/local/lib/python3.11/dist-packages (from flask>=3.0.0->open3d) (1.9.0)\n",
            "Collecting comm>=0.1.3 (from ipywidgets>=8.0.4->open3d)\n",
            "  Downloading comm-0.2.2-py3-none-any.whl.metadata (3.7 kB)\n",
            "Requirement already satisfied: ipython>=6.1.0 in /usr/local/lib/python3.11/dist-packages (from ipywidgets>=8.0.4->open3d) (7.34.0)\n",
            "Requirement already satisfied: traitlets>=4.3.1 in /usr/local/lib/python3.11/dist-packages (from ipywidgets>=8.0.4->open3d) (5.7.1)\n",
            "Collecting widgetsnbextension~=4.0.12 (from ipywidgets>=8.0.4->open3d)\n",
            "  Downloading widgetsnbextension-4.0.13-py3-none-any.whl.metadata (1.6 kB)\n",
            "Requirement already satisfied: jupyterlab-widgets~=3.0.12 in /usr/local/lib/python3.11/dist-packages (from ipywidgets>=8.0.4->open3d) (3.0.13)\n",
            "Requirement already satisfied: contourpy>=1.0.1 in /usr/local/lib/python3.11/dist-packages (from matplotlib>=3->open3d) (1.3.1)\n",
            "Requirement already satisfied: cycler>=0.10 in /usr/local/lib/python3.11/dist-packages (from matplotlib>=3->open3d) (0.12.1)\n",
            "Requirement already satisfied: fonttools>=4.22.0 in /usr/local/lib/python3.11/dist-packages (from matplotlib>=3->open3d) (4.55.8)\n",
            "Requirement already satisfied: kiwisolver>=1.3.1 in /usr/local/lib/python3.11/dist-packages (from matplotlib>=3->open3d) (1.4.8)\n",
            "Requirement already satisfied: packaging>=20.0 in /usr/local/lib/python3.11/dist-packages (from matplotlib>=3->open3d) (24.2)\n",
            "Requirement already satisfied: pyparsing>=2.3.1 in /usr/local/lib/python3.11/dist-packages (from matplotlib>=3->open3d) (3.2.1)\n",
            "Requirement already satisfied: python-dateutil>=2.7 in /usr/local/lib/python3.11/dist-packages (from matplotlib>=3->open3d) (2.8.2)\n",
            "Requirement already satisfied: fastjsonschema>=2.15 in /usr/local/lib/python3.11/dist-packages (from nbformat>=5.7.0->open3d) (2.21.1)\n",
            "Requirement already satisfied: jsonschema>=2.6 in /usr/local/lib/python3.11/dist-packages (from nbformat>=5.7.0->open3d) (4.23.0)\n",
            "Requirement already satisfied: jupyter-core!=5.0.*,>=4.12 in /usr/local/lib/python3.11/dist-packages (from nbformat>=5.7.0->open3d) (5.7.2)\n",
            "Requirement already satisfied: pytz>=2020.1 in /usr/local/lib/python3.11/dist-packages (from pandas>=1.0->open3d) (2025.1)\n",
            "Requirement already satisfied: tzdata>=2022.7 in /usr/local/lib/python3.11/dist-packages (from pandas>=1.0->open3d) (2025.1)\n",
            "Requirement already satisfied: scipy>=1.6.0 in /usr/local/lib/python3.11/dist-packages (from scikit-learn>=0.21->open3d) (1.13.1)\n",
            "Requirement already satisfied: joblib>=1.2.0 in /usr/local/lib/python3.11/dist-packages (from scikit-learn>=0.21->open3d) (1.4.2)\n",
            "Requirement already satisfied: threadpoolctl>=3.1.0 in /usr/local/lib/python3.11/dist-packages (from scikit-learn>=0.21->open3d) (3.5.0)\n",
            "Requirement already satisfied: MarkupSafe>=2.1.1 in /usr/local/lib/python3.11/dist-packages (from werkzeug>=3.0.0->open3d) (3.0.2)\n",
            "Collecting jedi>=0.16 (from ipython>=6.1.0->ipywidgets>=8.0.4->open3d)\n",
            "  Downloading jedi-0.19.2-py2.py3-none-any.whl.metadata (22 kB)\n",
            "Requirement already satisfied: decorator in /usr/local/lib/python3.11/dist-packages (from ipython>=6.1.0->ipywidgets>=8.0.4->open3d) (4.4.2)\n",
            "Requirement already satisfied: pickleshare in /usr/local/lib/python3.11/dist-packages (from ipython>=6.1.0->ipywidgets>=8.0.4->open3d) (0.7.5)\n",
            "Requirement already satisfied: prompt-toolkit!=3.0.0,!=3.0.1,<3.1.0,>=2.0.0 in /usr/local/lib/python3.11/dist-packages (from ipython>=6.1.0->ipywidgets>=8.0.4->open3d) (3.0.50)\n",
            "Requirement already satisfied: pygments in /usr/local/lib/python3.11/dist-packages (from ipython>=6.1.0->ipywidgets>=8.0.4->open3d) (2.18.0)\n",
            "Requirement already satisfied: backcall in /usr/local/lib/python3.11/dist-packages (from ipython>=6.1.0->ipywidgets>=8.0.4->open3d) (0.2.0)\n",
            "Requirement already satisfied: matplotlib-inline in /usr/local/lib/python3.11/dist-packages (from ipython>=6.1.0->ipywidgets>=8.0.4->open3d) (0.1.7)\n",
            "Requirement already satisfied: pexpect>4.3 in /usr/local/lib/python3.11/dist-packages (from ipython>=6.1.0->ipywidgets>=8.0.4->open3d) (4.9.0)\n",
            "Requirement already satisfied: attrs>=22.2.0 in /usr/local/lib/python3.11/dist-packages (from jsonschema>=2.6->nbformat>=5.7.0->open3d) (25.1.0)\n",
            "Requirement already satisfied: jsonschema-specifications>=2023.03.6 in /usr/local/lib/python3.11/dist-packages (from jsonschema>=2.6->nbformat>=5.7.0->open3d) (2024.10.1)\n",
            "Requirement already satisfied: referencing>=0.28.4 in /usr/local/lib/python3.11/dist-packages (from jsonschema>=2.6->nbformat>=5.7.0->open3d) (0.36.2)\n",
            "Requirement already satisfied: rpds-py>=0.7.1 in /usr/local/lib/python3.11/dist-packages (from jsonschema>=2.6->nbformat>=5.7.0->open3d) (0.22.3)\n",
            "Requirement already satisfied: platformdirs>=2.5 in /usr/local/lib/python3.11/dist-packages (from jupyter-core!=5.0.*,>=4.12->nbformat>=5.7.0->open3d) (4.3.6)\n",
            "Requirement already satisfied: tenacity>=6.2.0 in /usr/local/lib/python3.11/dist-packages (from plotly>=5.0.0->dash>=2.6.0->open3d) (9.0.0)\n",
            "Requirement already satisfied: six>=1.5 in /usr/local/lib/python3.11/dist-packages (from python-dateutil>=2.7->matplotlib>=3->open3d) (1.17.0)\n",
            "Requirement already satisfied: zipp>=3.20 in /usr/local/lib/python3.11/dist-packages (from importlib-metadata->dash>=2.6.0->open3d) (3.21.0)\n",
            "Requirement already satisfied: charset-normalizer<4,>=2 in /usr/local/lib/python3.11/dist-packages (from requests->dash>=2.6.0->open3d) (3.4.1)\n",
            "Requirement already satisfied: idna<4,>=2.5 in /usr/local/lib/python3.11/dist-packages (from requests->dash>=2.6.0->open3d) (3.10)\n",
            "Requirement already satisfied: urllib3<3,>=1.21.1 in /usr/local/lib/python3.11/dist-packages (from requests->dash>=2.6.0->open3d) (2.3.0)\n",
            "Requirement already satisfied: certifi>=2017.4.17 in /usr/local/lib/python3.11/dist-packages (from requests->dash>=2.6.0->open3d) (2025.1.31)\n",
            "Requirement already satisfied: parso<0.9.0,>=0.8.4 in /usr/local/lib/python3.11/dist-packages (from jedi>=0.16->ipython>=6.1.0->ipywidgets>=8.0.4->open3d) (0.8.4)\n",
            "Requirement already satisfied: ptyprocess>=0.5 in /usr/local/lib/python3.11/dist-packages (from pexpect>4.3->ipython>=6.1.0->ipywidgets>=8.0.4->open3d) (0.7.0)\n",
            "Requirement already satisfied: wcwidth in /usr/local/lib/python3.11/dist-packages (from prompt-toolkit!=3.0.0,!=3.0.1,<3.1.0,>=2.0.0->ipython>=6.1.0->ipywidgets>=8.0.4->open3d) (0.2.13)\n",
            "Downloading open3d-0.19.0-cp311-cp311-manylinux_2_31_x86_64.whl (447.7 MB)\n",
            "\u001b[2K   \u001b[90m━━━━━━━━━━━━━━━━━━━━━━━━━━━━━━━━━━━━━━━━\u001b[0m \u001b[32m447.7/447.7 MB\u001b[0m \u001b[31m3.7 MB/s\u001b[0m eta \u001b[36m0:00:00\u001b[0m\n",
            "\u001b[?25hDownloading dash-2.18.2-py3-none-any.whl (7.8 MB)\n",
            "\u001b[2K   \u001b[90m━━━━━━━━━━━━━━━━━━━━━━━━━━━━━━━━━━━━━━━━\u001b[0m \u001b[32m7.8/7.8 MB\u001b[0m \u001b[31m92.8 MB/s\u001b[0m eta \u001b[36m0:00:00\u001b[0m\n",
            "\u001b[?25hDownloading dash_core_components-2.0.0-py3-none-any.whl (3.8 kB)\n",
            "Downloading dash_html_components-2.0.0-py3-none-any.whl (4.1 kB)\n",
            "Downloading dash_table-5.0.0-py3-none-any.whl (3.9 kB)\n",
            "Downloading flask-3.0.3-py3-none-any.whl (101 kB)\n",
            "\u001b[2K   \u001b[90m━━━━━━━━━━━━━━━━━━━━━━━━━━━━━━━━━━━━━━━━\u001b[0m \u001b[32m101.7/101.7 kB\u001b[0m \u001b[31m6.9 MB/s\u001b[0m eta \u001b[36m0:00:00\u001b[0m\n",
            "\u001b[?25hDownloading ipywidgets-8.1.5-py3-none-any.whl (139 kB)\n",
            "\u001b[2K   \u001b[90m━━━━━━━━━━━━━━━━━━━━━━━━━━━━━━━━━━━━━━━━\u001b[0m \u001b[32m139.8/139.8 kB\u001b[0m \u001b[31m8.7 MB/s\u001b[0m eta \u001b[36m0:00:00\u001b[0m\n",
            "\u001b[?25hDownloading werkzeug-3.0.6-py3-none-any.whl (227 kB)\n",
            "\u001b[2K   \u001b[90m━━━━━━━━━━━━━━━━━━━━━━━━━━━━━━━━━━━━━━━━\u001b[0m \u001b[32m228.0/228.0 kB\u001b[0m \u001b[31m14.2 MB/s\u001b[0m eta \u001b[36m0:00:00\u001b[0m\n",
            "\u001b[?25hDownloading addict-2.4.0-py3-none-any.whl (3.8 kB)\n",
            "Downloading ConfigArgParse-1.7-py3-none-any.whl (25 kB)\n",
            "Downloading pyquaternion-0.9.9-py3-none-any.whl (14 kB)\n",
            "Downloading comm-0.2.2-py3-none-any.whl (7.2 kB)\n",
            "Downloading widgetsnbextension-4.0.13-py3-none-any.whl (2.3 MB)\n",
            "\u001b[2K   \u001b[90m━━━━━━━━━━━━━━━━━━━━━━━━━━━━━━━━━━━━━━━━\u001b[0m \u001b[32m2.3/2.3 MB\u001b[0m \u001b[31m58.5 MB/s\u001b[0m eta \u001b[36m0:00:00\u001b[0m\n",
            "\u001b[?25hDownloading retrying-1.3.4-py3-none-any.whl (11 kB)\n",
            "Downloading jedi-0.19.2-py2.py3-none-any.whl (1.6 MB)\n",
            "\u001b[2K   \u001b[90m━━━━━━━━━━━━━━━━━━━━━━━━━━━━━━━━━━━━━━━━\u001b[0m \u001b[32m1.6/1.6 MB\u001b[0m \u001b[31m57.7 MB/s\u001b[0m eta \u001b[36m0:00:00\u001b[0m\n",
            "\u001b[?25hInstalling collected packages: dash-table, dash-html-components, dash-core-components, addict, widgetsnbextension, werkzeug, retrying, pyquaternion, jedi, configargparse, comm, flask, ipywidgets, dash, open3d\n",
            "  Attempting uninstall: widgetsnbextension\n",
            "    Found existing installation: widgetsnbextension 3.6.10\n",
            "    Uninstalling widgetsnbextension-3.6.10:\n",
            "      Successfully uninstalled widgetsnbextension-3.6.10\n",
            "  Attempting uninstall: werkzeug\n",
            "    Found existing installation: Werkzeug 3.1.3\n",
            "    Uninstalling Werkzeug-3.1.3:\n",
            "      Successfully uninstalled Werkzeug-3.1.3\n",
            "  Attempting uninstall: flask\n",
            "    Found existing installation: Flask 3.1.0\n",
            "    Uninstalling Flask-3.1.0:\n",
            "      Successfully uninstalled Flask-3.1.0\n",
            "  Attempting uninstall: ipywidgets\n",
            "    Found existing installation: ipywidgets 7.7.1\n",
            "    Uninstalling ipywidgets-7.7.1:\n",
            "      Successfully uninstalled ipywidgets-7.7.1\n",
            "Successfully installed addict-2.4.0 comm-0.2.2 configargparse-1.7 dash-2.18.2 dash-core-components-2.0.0 dash-html-components-2.0.0 dash-table-5.0.0 flask-3.0.3 ipywidgets-8.1.5 jedi-0.19.2 open3d-0.19.0 pyquaternion-0.9.9 retrying-1.3.4 werkzeug-3.0.6 widgetsnbextension-4.0.13\n"
          ]
        }
      ]
    },
    {
      "cell_type": "code",
      "source": [
        "!pip install open3d matplotlib numpy\n"
      ],
      "metadata": {
        "colab": {
          "base_uri": "https://localhost:8080/"
        },
        "id": "7RK9gtkDfbJM",
        "outputId": "3e3acfa5-80a8-48f8-cab5-cd8c88745949"
      },
      "execution_count": null,
      "outputs": [
        {
          "output_type": "stream",
          "name": "stdout",
          "text": [
            "Requirement already satisfied: open3d in /usr/local/lib/python3.11/dist-packages (0.19.0)\n",
            "Requirement already satisfied: matplotlib in /usr/local/lib/python3.11/dist-packages (3.10.0)\n",
            "Requirement already satisfied: numpy in /usr/local/lib/python3.11/dist-packages (1.26.4)\n",
            "Requirement already satisfied: dash>=2.6.0 in /usr/local/lib/python3.11/dist-packages (from open3d) (2.18.2)\n",
            "Requirement already satisfied: werkzeug>=3.0.0 in /usr/local/lib/python3.11/dist-packages (from open3d) (3.0.6)\n",
            "Requirement already satisfied: flask>=3.0.0 in /usr/local/lib/python3.11/dist-packages (from open3d) (3.0.3)\n",
            "Requirement already satisfied: nbformat>=5.7.0 in /usr/local/lib/python3.11/dist-packages (from open3d) (5.10.4)\n",
            "Requirement already satisfied: configargparse in /usr/local/lib/python3.11/dist-packages (from open3d) (1.7)\n",
            "Requirement already satisfied: ipywidgets>=8.0.4 in /usr/local/lib/python3.11/dist-packages (from open3d) (8.1.5)\n",
            "Requirement already satisfied: addict in /usr/local/lib/python3.11/dist-packages (from open3d) (2.4.0)\n",
            "Requirement already satisfied: pillow>=9.3.0 in /usr/local/lib/python3.11/dist-packages (from open3d) (11.1.0)\n",
            "Requirement already satisfied: pandas>=1.0 in /usr/local/lib/python3.11/dist-packages (from open3d) (2.2.2)\n",
            "Requirement already satisfied: pyyaml>=5.4.1 in /usr/local/lib/python3.11/dist-packages (from open3d) (6.0.2)\n",
            "Requirement already satisfied: scikit-learn>=0.21 in /usr/local/lib/python3.11/dist-packages (from open3d) (1.6.1)\n",
            "Requirement already satisfied: tqdm in /usr/local/lib/python3.11/dist-packages (from open3d) (4.67.1)\n",
            "Requirement already satisfied: pyquaternion in /usr/local/lib/python3.11/dist-packages (from open3d) (0.9.9)\n",
            "Requirement already satisfied: contourpy>=1.0.1 in /usr/local/lib/python3.11/dist-packages (from matplotlib) (1.3.1)\n",
            "Requirement already satisfied: cycler>=0.10 in /usr/local/lib/python3.11/dist-packages (from matplotlib) (0.12.1)\n",
            "Requirement already satisfied: fonttools>=4.22.0 in /usr/local/lib/python3.11/dist-packages (from matplotlib) (4.55.8)\n",
            "Requirement already satisfied: kiwisolver>=1.3.1 in /usr/local/lib/python3.11/dist-packages (from matplotlib) (1.4.8)\n",
            "Requirement already satisfied: packaging>=20.0 in /usr/local/lib/python3.11/dist-packages (from matplotlib) (24.2)\n",
            "Requirement already satisfied: pyparsing>=2.3.1 in /usr/local/lib/python3.11/dist-packages (from matplotlib) (3.2.1)\n",
            "Requirement already satisfied: python-dateutil>=2.7 in /usr/local/lib/python3.11/dist-packages (from matplotlib) (2.8.2)\n",
            "Requirement already satisfied: plotly>=5.0.0 in /usr/local/lib/python3.11/dist-packages (from dash>=2.6.0->open3d) (5.24.1)\n",
            "Requirement already satisfied: dash-html-components==2.0.0 in /usr/local/lib/python3.11/dist-packages (from dash>=2.6.0->open3d) (2.0.0)\n",
            "Requirement already satisfied: dash-core-components==2.0.0 in /usr/local/lib/python3.11/dist-packages (from dash>=2.6.0->open3d) (2.0.0)\n",
            "Requirement already satisfied: dash-table==5.0.0 in /usr/local/lib/python3.11/dist-packages (from dash>=2.6.0->open3d) (5.0.0)\n",
            "Requirement already satisfied: importlib-metadata in /usr/local/lib/python3.11/dist-packages (from dash>=2.6.0->open3d) (8.6.1)\n",
            "Requirement already satisfied: typing-extensions>=4.1.1 in /usr/local/lib/python3.11/dist-packages (from dash>=2.6.0->open3d) (4.12.2)\n",
            "Requirement already satisfied: requests in /usr/local/lib/python3.11/dist-packages (from dash>=2.6.0->open3d) (2.32.3)\n",
            "Requirement already satisfied: retrying in /usr/local/lib/python3.11/dist-packages (from dash>=2.6.0->open3d) (1.3.4)\n",
            "Requirement already satisfied: nest-asyncio in /usr/local/lib/python3.11/dist-packages (from dash>=2.6.0->open3d) (1.6.0)\n",
            "Requirement already satisfied: setuptools in /usr/local/lib/python3.11/dist-packages (from dash>=2.6.0->open3d) (75.1.0)\n",
            "Requirement already satisfied: Jinja2>=3.1.2 in /usr/local/lib/python3.11/dist-packages (from flask>=3.0.0->open3d) (3.1.5)\n",
            "Requirement already satisfied: itsdangerous>=2.1.2 in /usr/local/lib/python3.11/dist-packages (from flask>=3.0.0->open3d) (2.2.0)\n",
            "Requirement already satisfied: click>=8.1.3 in /usr/local/lib/python3.11/dist-packages (from flask>=3.0.0->open3d) (8.1.8)\n",
            "Requirement already satisfied: blinker>=1.6.2 in /usr/local/lib/python3.11/dist-packages (from flask>=3.0.0->open3d) (1.9.0)\n",
            "Requirement already satisfied: comm>=0.1.3 in /usr/local/lib/python3.11/dist-packages (from ipywidgets>=8.0.4->open3d) (0.2.2)\n",
            "Requirement already satisfied: ipython>=6.1.0 in /usr/local/lib/python3.11/dist-packages (from ipywidgets>=8.0.4->open3d) (7.34.0)\n",
            "Requirement already satisfied: traitlets>=4.3.1 in /usr/local/lib/python3.11/dist-packages (from ipywidgets>=8.0.4->open3d) (5.7.1)\n",
            "Requirement already satisfied: widgetsnbextension~=4.0.12 in /usr/local/lib/python3.11/dist-packages (from ipywidgets>=8.0.4->open3d) (4.0.13)\n",
            "Requirement already satisfied: jupyterlab-widgets~=3.0.12 in /usr/local/lib/python3.11/dist-packages (from ipywidgets>=8.0.4->open3d) (3.0.13)\n",
            "Requirement already satisfied: fastjsonschema>=2.15 in /usr/local/lib/python3.11/dist-packages (from nbformat>=5.7.0->open3d) (2.21.1)\n",
            "Requirement already satisfied: jsonschema>=2.6 in /usr/local/lib/python3.11/dist-packages (from nbformat>=5.7.0->open3d) (4.23.0)\n",
            "Requirement already satisfied: jupyter-core!=5.0.*,>=4.12 in /usr/local/lib/python3.11/dist-packages (from nbformat>=5.7.0->open3d) (5.7.2)\n",
            "Requirement already satisfied: pytz>=2020.1 in /usr/local/lib/python3.11/dist-packages (from pandas>=1.0->open3d) (2025.1)\n",
            "Requirement already satisfied: tzdata>=2022.7 in /usr/local/lib/python3.11/dist-packages (from pandas>=1.0->open3d) (2025.1)\n",
            "Requirement already satisfied: six>=1.5 in /usr/local/lib/python3.11/dist-packages (from python-dateutil>=2.7->matplotlib) (1.17.0)\n",
            "Requirement already satisfied: scipy>=1.6.0 in /usr/local/lib/python3.11/dist-packages (from scikit-learn>=0.21->open3d) (1.13.1)\n",
            "Requirement already satisfied: joblib>=1.2.0 in /usr/local/lib/python3.11/dist-packages (from scikit-learn>=0.21->open3d) (1.4.2)\n",
            "Requirement already satisfied: threadpoolctl>=3.1.0 in /usr/local/lib/python3.11/dist-packages (from scikit-learn>=0.21->open3d) (3.5.0)\n",
            "Requirement already satisfied: MarkupSafe>=2.1.1 in /usr/local/lib/python3.11/dist-packages (from werkzeug>=3.0.0->open3d) (3.0.2)\n",
            "Requirement already satisfied: jedi>=0.16 in /usr/local/lib/python3.11/dist-packages (from ipython>=6.1.0->ipywidgets>=8.0.4->open3d) (0.19.2)\n",
            "Requirement already satisfied: decorator in /usr/local/lib/python3.11/dist-packages (from ipython>=6.1.0->ipywidgets>=8.0.4->open3d) (4.4.2)\n",
            "Requirement already satisfied: pickleshare in /usr/local/lib/python3.11/dist-packages (from ipython>=6.1.0->ipywidgets>=8.0.4->open3d) (0.7.5)\n",
            "Requirement already satisfied: prompt-toolkit!=3.0.0,!=3.0.1,<3.1.0,>=2.0.0 in /usr/local/lib/python3.11/dist-packages (from ipython>=6.1.0->ipywidgets>=8.0.4->open3d) (3.0.50)\n",
            "Requirement already satisfied: pygments in /usr/local/lib/python3.11/dist-packages (from ipython>=6.1.0->ipywidgets>=8.0.4->open3d) (2.18.0)\n",
            "Requirement already satisfied: backcall in /usr/local/lib/python3.11/dist-packages (from ipython>=6.1.0->ipywidgets>=8.0.4->open3d) (0.2.0)\n",
            "Requirement already satisfied: matplotlib-inline in /usr/local/lib/python3.11/dist-packages (from ipython>=6.1.0->ipywidgets>=8.0.4->open3d) (0.1.7)\n",
            "Requirement already satisfied: pexpect>4.3 in /usr/local/lib/python3.11/dist-packages (from ipython>=6.1.0->ipywidgets>=8.0.4->open3d) (4.9.0)\n",
            "Requirement already satisfied: attrs>=22.2.0 in /usr/local/lib/python3.11/dist-packages (from jsonschema>=2.6->nbformat>=5.7.0->open3d) (25.1.0)\n",
            "Requirement already satisfied: jsonschema-specifications>=2023.03.6 in /usr/local/lib/python3.11/dist-packages (from jsonschema>=2.6->nbformat>=5.7.0->open3d) (2024.10.1)\n",
            "Requirement already satisfied: referencing>=0.28.4 in /usr/local/lib/python3.11/dist-packages (from jsonschema>=2.6->nbformat>=5.7.0->open3d) (0.36.2)\n",
            "Requirement already satisfied: rpds-py>=0.7.1 in /usr/local/lib/python3.11/dist-packages (from jsonschema>=2.6->nbformat>=5.7.0->open3d) (0.22.3)\n",
            "Requirement already satisfied: platformdirs>=2.5 in /usr/local/lib/python3.11/dist-packages (from jupyter-core!=5.0.*,>=4.12->nbformat>=5.7.0->open3d) (4.3.6)\n",
            "Requirement already satisfied: tenacity>=6.2.0 in /usr/local/lib/python3.11/dist-packages (from plotly>=5.0.0->dash>=2.6.0->open3d) (9.0.0)\n",
            "Requirement already satisfied: zipp>=3.20 in /usr/local/lib/python3.11/dist-packages (from importlib-metadata->dash>=2.6.0->open3d) (3.21.0)\n",
            "Requirement already satisfied: charset-normalizer<4,>=2 in /usr/local/lib/python3.11/dist-packages (from requests->dash>=2.6.0->open3d) (3.4.1)\n",
            "Requirement already satisfied: idna<4,>=2.5 in /usr/local/lib/python3.11/dist-packages (from requests->dash>=2.6.0->open3d) (3.10)\n",
            "Requirement already satisfied: urllib3<3,>=1.21.1 in /usr/local/lib/python3.11/dist-packages (from requests->dash>=2.6.0->open3d) (2.3.0)\n",
            "Requirement already satisfied: certifi>=2017.4.17 in /usr/local/lib/python3.11/dist-packages (from requests->dash>=2.6.0->open3d) (2025.1.31)\n",
            "Requirement already satisfied: parso<0.9.0,>=0.8.4 in /usr/local/lib/python3.11/dist-packages (from jedi>=0.16->ipython>=6.1.0->ipywidgets>=8.0.4->open3d) (0.8.4)\n",
            "Requirement already satisfied: ptyprocess>=0.5 in /usr/local/lib/python3.11/dist-packages (from pexpect>4.3->ipython>=6.1.0->ipywidgets>=8.0.4->open3d) (0.7.0)\n",
            "Requirement already satisfied: wcwidth in /usr/local/lib/python3.11/dist-packages (from prompt-toolkit!=3.0.0,!=3.0.1,<3.1.0,>=2.0.0->ipython>=6.1.0->ipywidgets>=8.0.4->open3d) (0.2.13)\n"
          ]
        }
      ]
    },
    {
      "cell_type": "code",
      "source": [
        "import numpy as np\n",
        "import open3d as o3d\n",
        "import matplotlib.pyplot as plt"
      ],
      "metadata": {
        "id": "zsDJBiRWm-67"
      },
      "execution_count": null,
      "outputs": []
    },
    {
      "cell_type": "code",
      "source": [
        "import sqlite3"
      ],
      "metadata": {
        "id": "0gZbD470nOLl"
      },
      "execution_count": null,
      "outputs": []
    },
    {
      "source": [
        "import numpy as np\n",
        "\n",
        "txt_file = 'lidar_output.txt'\n",
        "\n",
        "# Read each line, split into x/y/z, and convert to float\n",
        "points_list = []\n",
        "with open(txt_file, 'r') as f:\n",
        "    for line in f:\n",
        "        line = line.strip()\n",
        "        if not line:\n",
        "            continue\n",
        "        x_str, y_str, z_str = line.split()\n",
        "        points_list.append([float(x_str), float(y_str), float(z_str)])\n",
        "\n",
        "points_np = np.array(points_list, dtype=np.float64)\n",
        "print(\"Loaded points:\", points_np.shape)"
      ],
      "cell_type": "code",
      "metadata": {
        "colab": {
          "base_uri": "https://localhost:8080/"
        },
        "id": "lcQ0E45Snk-V",
        "outputId": "160ba926-5e70-49c8-b76f-5ba183a39f22"
      },
      "execution_count": null,
      "outputs": [
        {
          "output_type": "stream",
          "name": "stdout",
          "text": [
            "Loaded points: (32305, 3)\n"
          ]
        }
      ]
    },
    {
      "cell_type": "code",
      "source": [
        "import open3d as o3d\n",
        "\n",
        "pcd = o3d.geometry.PointCloud()\n",
        "pcd.points = o3d.utility.Vector3dVector(points_np)\n",
        "print(\"Point cloud size:\", len(pcd.points))"
      ],
      "metadata": {
        "colab": {
          "base_uri": "https://localhost:8080/"
        },
        "id": "B37blN-Qn226",
        "outputId": "e901afbb-be92-414f-df5f-8f4dc0598da3"
      },
      "execution_count": null,
      "outputs": [
        {
          "output_type": "stream",
          "name": "stdout",
          "text": [
            "Point cloud size: 32305\n"
          ]
        }
      ]
    },
    {
      "cell_type": "code",
      "source": [
        "threshold = 1e6\n",
        "mask = (\n",
        "    (np.abs(points_np[:, 0]) < threshold) &\n",
        "    (np.abs(points_np[:, 1]) < threshold) &\n",
        "    (np.abs(points_np[:, 2]) < threshold)\n",
        ")\n",
        "filtered_points_np = points_np[mask]\n",
        "print(\"Points after filtering:\", filtered_points_np.shape)\n",
        "\n",
        "pcd_filtered = o3d.geometry.PointCloud()\n",
        "pcd_filtered.points = o3d.utility.Vector3dVector(filtered_points_np)"
      ],
      "metadata": {
        "colab": {
          "base_uri": "https://localhost:8080/"
        },
        "id": "0C8W8p53n6BQ",
        "outputId": "b26b6a34-5a82-41a8-ff7a-8e23d8b97d1f"
      },
      "execution_count": null,
      "outputs": [
        {
          "output_type": "stream",
          "name": "stdout",
          "text": [
            "Points after filtering: (23373, 3)\n"
          ]
        }
      ]
    },
    {
      "cell_type": "code",
      "source": [
        "# Downsample\n",
        "voxel_size = 0.1\n",
        "pcd_down = pcd_filtered.voxel_down_sample(voxel_size=voxel_size)\n",
        "\n",
        "# Statistical Outlier Removal\n",
        "num_neighbors = 20\n",
        "std_ratio = 2.0\n",
        "pcd_clean, ind = pcd_down.remove_statistical_outlier(\n",
        "    nb_neighbors=num_neighbors,\n",
        "    std_ratio=std_ratio\n",
        ")\n",
        "print(\"Points after cleaning:\", len(pcd_clean.points))\n"
      ],
      "metadata": {
        "colab": {
          "base_uri": "https://localhost:8080/"
        },
        "id": "IcLKBMdsn7uR",
        "outputId": "aa7238e3-991b-4e34-d5ae-877446bf46ce"
      },
      "execution_count": null,
      "outputs": [
        {
          "output_type": "stream",
          "name": "stdout",
          "text": [
            "Points after cleaning: 5383\n"
          ]
        }
      ]
    },
    {
      "cell_type": "code",
      "source": [
        "distance_threshold = 0.2\n",
        "ransac_n = 3\n",
        "num_iterations = 1000\n",
        "\n",
        "plane_model, inliers = pcd_clean.segment_plane(\n",
        "    distance_threshold=distance_threshold,\n",
        "    ransac_n=ransac_n,\n",
        "    num_iterations=num_iterations\n",
        ")\n",
        "[a, b, c, d] = plane_model\n",
        "print(f\"Plane equation: {a}x + {b}y + {c}z + {d} = 0\")\n",
        "\n",
        "inlier_cloud = pcd_clean.select_by_index(inliers)          # Ground plane points\n",
        "outlier_cloud = pcd_clean.select_by_index(inliers, invert=True)  # Objects above ground\n",
        "\n",
        "\n",
        "inlier_cloud.paint_uniform_color([0.0, 1.0, 0.0])\n"
      ],
      "metadata": {
        "colab": {
          "base_uri": "https://localhost:8080/"
        },
        "id": "SJiijv__n9K-",
        "outputId": "18e0013f-7051-48b8-9e89-665cc89e47bd"
      },
      "execution_count": null,
      "outputs": [
        {
          "output_type": "stream",
          "name": "stdout",
          "text": [
            "Plane equation: -7.052603977135891e-09x + 6.9042236048396e-10y + 1.0z + -0.0038487565658877083 = 0\n"
          ]
        },
        {
          "output_type": "execute_result",
          "data": {
            "text/plain": [
              "PointCloud with 1566 points."
            ]
          },
          "metadata": {},
          "execution_count": 6
        }
      ]
    },
    {
      "cell_type": "code",
      "source": [
        "import matplotlib.pyplot as plt\n",
        "\n",
        "eps = 0.5       # max distance between points in a cluster\n",
        "min_points = 5  # minimum points to form a cluster\n",
        "\n",
        "with o3d.utility.VerbosityContextManager(o3d.utility.VerbosityLevel.Error) as cm:\n",
        "    labels = np.array(outlier_cloud.cluster_dbscan(eps=eps, min_points=min_points, print_progress=True))\n",
        "\n",
        "max_label = labels.max()\n",
        "print(f\"Detected {max_label + 1} clusters\")\n",
        "\n",
        "#colors to each cluster\n",
        "colors = plt.get_cmap(\"tab20\")(labels / (max_label if max_label > 0 else 1))\n",
        "colors[labels < 0] = 0  # noise or unclustered\n",
        "outlier_cloud.colors = o3d.utility.Vector3dVector(colors[:, :3])\n"
      ],
      "metadata": {
        "colab": {
          "base_uri": "https://localhost:8080/"
        },
        "id": "8rhKBH_eoALJ",
        "outputId": "d85da7ed-4fc7-478e-d3b6-1ff87c25a08d"
      },
      "execution_count": null,
      "outputs": [
        {
          "output_type": "stream",
          "name": "stdout",
          "text": [
            "Detected 105 clusters\n"
          ]
        }
      ]
    },
    {
      "cell_type": "code",
      "source": [
        "bounding_boxes = []\n",
        "for cluster_id in range(max_label + 1):\n",
        "    cluster_indices = np.where(labels == cluster_id)[0]\n",
        "    cluster_cloud = outlier_cloud.select_by_index(cluster_indices)\n",
        "\n",
        "    aabb = cluster_cloud.get_axis_aligned_bounding_box()\n",
        "    aabb.color = (1, 0, 0)  # red\n",
        "    bounding_boxes.append(aabb)\n"
      ],
      "metadata": {
        "id": "kHPOvaXAoBoG"
      },
      "execution_count": null,
      "outputs": []
    },
    {
      "cell_type": "code",
      "source": [
        "bounding_boxes"
      ],
      "metadata": {
        "colab": {
          "base_uri": "https://localhost:8080/"
        },
        "id": "P0bYVkvuoD1w",
        "outputId": "71910925-6db2-4bcd-dd12-b82832a4240b"
      },
      "execution_count": null,
      "outputs": [
        {
          "output_type": "execute_result",
          "data": {
            "text/plain": [
              "[AxisAlignedBoundingBox: min: (-1.513, 0.725, 80), max: (-1.083, 1.484, 80),\n",
              " AxisAlignedBoundingBox: min: (-4.197, -1.7905, -0.407), max: (3.904, 1.552, 2.112),\n",
              " AxisAlignedBoundingBox: min: (-1.668, -0.101, 82), max: (-1.128, 1.144, 82),\n",
              " AxisAlignedBoundingBox: min: (-1.523, 0.709, 79), max: (-1.073, 1.465, 79),\n",
              " AxisAlignedBoundingBox: min: (-1.653, 0.139, 88), max: (-1.112, 0.947, 88),\n",
              " AxisAlignedBoundingBox: min: (-1.627, -0.082, 13), max: (-1.2375, 0.885, 13),\n",
              " AxisAlignedBoundingBox: min: (-1.442, 1.07, 71), max: (-0.995, 1.76, 71),\n",
              " AxisAlignedBoundingBox: min: (368.266, -5.489, -2.047), max: (368.266, 6.35, -0.211333),\n",
              " AxisAlignedBoundingBox: min: (-0.082, 0, 1.837), max: (0.3735, 0.429, 2),\n",
              " AxisAlignedBoundingBox: min: (368.266, -6.319, 0.29275), max: (368.266, 4.496, 1.725),\n",
              " AxisAlignedBoundingBox: min: (1, 1.192, 49), max: (1.375, 1.446, 49),\n",
              " AxisAlignedBoundingBox: min: (1.011, 0.437, 11), max: (1.13967, 0.976333, 11),\n",
              " AxisAlignedBoundingBox: min: (0.873, -0.055, 13), max: (1.1675, 0.9974, 13),\n",
              " AxisAlignedBoundingBox: min: (0.82, -0.062, 60), max: (1.204, 0.974, 60),\n",
              " AxisAlignedBoundingBox: min: (0.81, 0.048, 63), max: (1.264, 0.85, 63),\n",
              " AxisAlignedBoundingBox: min: (0.851, 0.234, 62), max: (1.298, 1.097, 62),\n",
              " AxisAlignedBoundingBox: min: (1.119, 1.034, 51), max: (1.405, 1.587, 51),\n",
              " AxisAlignedBoundingBox: min: (-0.468, 0.344, 12), max: (0.369, 0.593, 12),\n",
              " AxisAlignedBoundingBox: min: (-0.267, 0, 8), max: (0.445, 0.977, 8),\n",
              " AxisAlignedBoundingBox: min: (-1.436, 0.957, 73), max: (-1.03, 1.347, 73),\n",
              " AxisAlignedBoundingBox: min: (-1.635, -0.117, 86), max: (-1.099, 1.2, 86),\n",
              " AxisAlignedBoundingBox: min: (-1.674, -0.028, 15), max: (-0.811, 0.964, 15),\n",
              " AxisAlignedBoundingBox: min: (-1.749, -0.128, 11), max: (-1.2825, 1.07, 11),\n",
              " AxisAlignedBoundingBox: min: (-1.6125, -0.0095, 16), max: (-1.28112, 0.9535, 16),\n",
              " AxisAlignedBoundingBox: min: (-1.565, 0.868, 57), max: (-1.3775, 1.497, 57),\n",
              " AxisAlignedBoundingBox: min: (-1.569, 0.641, 66), max: (-1.1, 1.534, 66),\n",
              " AxisAlignedBoundingBox: min: (0.913, 0.637, 50), max: (1.285, 1.3, 50),\n",
              " AxisAlignedBoundingBox: min: (-0.253, -0.319, 5), max: (0.398, 0.902, 5),\n",
              " AxisAlignedBoundingBox: min: (-1.563, 0.548, 83), max: (-1.1105, 1.096, 83),\n",
              " AxisAlignedBoundingBox: min: (-1.57, -0.111, 87), max: (-1.153, 1.069, 87),\n",
              " AxisAlignedBoundingBox: min: (0.684, -0.148, 16), max: (1.599, 0.404, 16),\n",
              " AxisAlignedBoundingBox: min: (-1.628, -0.135, 74), max: (-1.083, 1.449, 74),\n",
              " AxisAlignedBoundingBox: min: (0, 368.266, -6.74), max: (0, 368.266, 8.783),\n",
              " AxisAlignedBoundingBox: min: (-0.173, -0.221, 6), max: (0.4, 1.083, 6.46875),\n",
              " AxisAlignedBoundingBox: min: (-1.536, 0.754, 65), max: (-1.07, 1.508, 65),\n",
              " AxisAlignedBoundingBox: min: (-5.574, -0.308, 1.905), max: (-5.02, 0.218, 1.984),\n",
              " AxisAlignedBoundingBox: min: (0, -0.241469, 5207.82), max: (3.33333e-07, 0, 5208.12),\n",
              " AxisAlignedBoundingBox: min: (0.652, -0.357, 12), max: (1.159, 0.974, 12),\n",
              " AxisAlignedBoundingBox: min: (0.842, -0.0555, 14), max: (1.1795, 0.961, 14),\n",
              " AxisAlignedBoundingBox: min: (-0.20425, 0.421, 9), max: (0.602, 0.975, 9),\n",
              " AxisAlignedBoundingBox: min: (-1.655, 0.725, 50), max: (-0.999, 1.153, 50),\n",
              " AxisAlignedBoundingBox: min: (-1.459, 1.089, 67), max: (-0.944, 1.804, 67),\n",
              " AxisAlignedBoundingBox: min: (-1.635, -0.025, 14), max: (-1.30067, 1.129, 14),\n",
              " AxisAlignedBoundingBox: min: (-1.453, 1.031, 61), max: (-1.031, 1.613, 61),\n",
              " AxisAlignedBoundingBox: min: (-1.587, 0.413, 77), max: (-1.083, 1.561, 77),\n",
              " AxisAlignedBoundingBox: min: (0.8625, 1.225, 42), max: (1.269, 1.628, 42),\n",
              " AxisAlignedBoundingBox: min: (-0.791, -0.265, -0.241469), max: (-0.141667, 0.489333, 0.702),\n",
              " AxisAlignedBoundingBox: min: (-1.608, -0.265, 10), max: (-1.078, 0.86, 10),\n",
              " AxisAlignedBoundingBox: min: (0.711667, 1.283, 44), max: (1.31, 1.683, 44),\n",
              " AxisAlignedBoundingBox: min: (368.266, -0.618, -0.204), max: (368.266, -0.066, 0.507),\n",
              " AxisAlignedBoundingBox: min: (-0.077, 0.322, 13), max: (0.2945, 0.572, 13),\n",
              " AxisAlignedBoundingBox: min: (0.801, 0.734, 45), max: (1.386, 1.639, 45),\n",
              " AxisAlignedBoundingBox: min: (-0.26, -0.404, 10), max: (0.404, 0.91475, 10),\n",
              " AxisAlignedBoundingBox: min: (-1.272, 1.898, 30), max: (-0.789, 2.067, 30),\n",
              " AxisAlignedBoundingBox: min: (-0.103, 0, 4), max: (0.336, 0.962, 4),\n",
              " AxisAlignedBoundingBox: min: (-1.447, 1.284, 63), max: (-0.982, 1.521, 63),\n",
              " AxisAlignedBoundingBox: min: (-0.104333, 0, 7), max: (0.4585, 0.935, 7),\n",
              " AxisAlignedBoundingBox: min: (0.893333, -0.0513333, 15), max: (1.184, 0.74, 15),\n",
              " AxisAlignedBoundingBox: min: (-1.647, 1.826, 29), max: (-0.878, 2.064, 29),\n",
              " AxisAlignedBoundingBox: min: (0.822, 1.39, 40), max: (1.34, 1.7215, 40),\n",
              " AxisAlignedBoundingBox: min: (-1.5085, -0.233, 150), max: (-0.386, -0.064, 150),\n",
              " AxisAlignedBoundingBox: min: (-1.668, -0.1335, 77), max: (-1.213, 0.128, 77),\n",
              " AxisAlignedBoundingBox: min: (0.548, -0.287, 18), max: (1.078, 0.626, 18),\n",
              " AxisAlignedBoundingBox: min: (368.266, 7.175, -0.775), max: (368.266, 8.146, -0.384),\n",
              " AxisAlignedBoundingBox: min: (0.919, 0.681, 48), max: (1.256, 1.261, 48),\n",
              " AxisAlignedBoundingBox: min: (0.893, 0.068, 64), max: (1.361, 1.023, 64),\n",
              " AxisAlignedBoundingBox: min: (-1.247, 1.075, 64), max: (-1.03, 1.565, 64),\n",
              " AxisAlignedBoundingBox: min: (0.617, 1.24, 47), max: (1.281, 1.672, 47),\n",
              " AxisAlignedBoundingBox: min: (-1.654, 0.1084, 20), max: (-1.372, 0.814, 20),\n",
              " AxisAlignedBoundingBox: min: (368.266, 5.397, 1.502), max: (368.266, 5.757, 1.823),\n",
              " AxisAlignedBoundingBox: min: (0.619, -0.051, 17), max: (1.0775, 0.402, 17),\n",
              " AxisAlignedBoundingBox: min: (-1.621, -0.34, 12), max: (-1.039, 0.839, 12),\n",
              " AxisAlignedBoundingBox: min: (-1.287, 1.1915, 72), max: (-1.06, 1.49, 72),\n",
              " AxisAlignedBoundingBox: min: (4.585, -0.739, 1.733), max: (4.992, -0.266, 1.825),\n",
              " AxisAlignedBoundingBox: min: (-1.982, -0.022, 17), max: (-0.884, 0.963, 17),\n",
              " AxisAlignedBoundingBox: min: (-1.518, 1.314, 49), max: (-1.329, 1.812, 49),\n",
              " AxisAlignedBoundingBox: min: (0.991, 1.202, 41), max: (1.414, 1.591, 41),\n",
              " AxisAlignedBoundingBox: min: (-1.37, 1.852, 34), max: (-0.559, 2.023, 34),\n",
              " AxisAlignedBoundingBox: min: (-1.335, 1.79, 35), max: (-0.254, 2.071, 35),\n",
              " AxisAlignedBoundingBox: min: (-1.26367, 1.019, 70), max: (-1.0045, 1.6275, 70),\n",
              " AxisAlignedBoundingBox: min: (-1.334, 1.847, 32), max: (-0.531, 2.061, 32),\n",
              " AxisAlignedBoundingBox: min: (-2, -0.02, 19), max: (-1.322, 0.48, 19),\n",
              " AxisAlignedBoundingBox: min: (0.7805, 1.248, 46), max: (1.46, 1.64, 46),\n",
              " AxisAlignedBoundingBox: min: (-1.008, 1.81, 33), max: (-0.323, 2.026, 33),\n",
              " AxisAlignedBoundingBox: min: (0.852, 1.2165, 43), max: (1.294, 1.7, 43),\n",
              " AxisAlignedBoundingBox: min: (368.266, -6.871, -2.179), max: (368.266, -6.366, -1.839),\n",
              " AxisAlignedBoundingBox: min: (-1.623, -0.05, 81), max: (-1.143, 0.916, 81),\n",
              " AxisAlignedBoundingBox: min: (-0.037, 0.0126667, 3), max: (0.366, 0.676, 3),\n",
              " AxisAlignedBoundingBox: min: (-0.761, 1.874, 37), max: (-0.58, 1.984, 37),\n",
              " AxisAlignedBoundingBox: min: (-1.56, 1.943, 3), max: (-1.044, 2.262, 3),\n",
              " AxisAlignedBoundingBox: min: (0, 368.266, -11.93), max: (0, 368.266, -10.566),\n",
              " AxisAlignedBoundingBox: min: (-1.705, -0.155, 67), max: (-1.261, 0.293, 67),\n",
              " AxisAlignedBoundingBox: min: (368.266, -5.716, -1.117), max: (368.266, -4.645, -0.308),\n",
              " AxisAlignedBoundingBox: min: (-1.753, -0.057, 66), max: (-1.23, 0.32, 66),\n",
              " AxisAlignedBoundingBox: min: (-1.642, -0.106, 90), max: (-1.217, 0.961, 90),\n",
              " AxisAlignedBoundingBox: min: (-1.593, 0.105, 91), max: (-1.2195, 0.761, 91),\n",
              " AxisAlignedBoundingBox: min: (1.159, 0.708, 52), max: (1.338, 1.331, 52),\n",
              " AxisAlignedBoundingBox: min: (0.85, 0.175, 56), max: (1.318, 0.933, 56),\n",
              " AxisAlignedBoundingBox: min: (-1.62, -0.072, 9), max: (-1.327, 0.712, 9),\n",
              " AxisAlignedBoundingBox: min: (-1.699, -0.029, 55), max: (-1.199, 0.765, 55),\n",
              " AxisAlignedBoundingBox: min: (368.266, -8.803, -2.385), max: (368.266, -8.118, -2.079),\n",
              " AxisAlignedBoundingBox: min: (-1.659, -0.116, 85), max: (-1.192, 0.403, 85),\n",
              " AxisAlignedBoundingBox: min: (0.527, -0.19, 19), max: (1.482, 0.253, 19),\n",
              " AxisAlignedBoundingBox: min: (-1.311, -0.054, 84), max: (-1.194, 0.626, 84),\n",
              " AxisAlignedBoundingBox: min: (-2.158, 0.23, 18), max: (-1.296, 0.493, 18)]"
            ]
          },
          "metadata": {},
          "execution_count": 9
        }
      ]
    }
  ]
}